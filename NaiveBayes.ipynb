{
 "cells": [
  {
   "cell_type": "markdown",
   "metadata": {},
   "source": [
    "# Naive Bayes"
   ]
  },
  {
   "cell_type": "code",
   "execution_count": 1,
   "metadata": {},
   "outputs": [],
   "source": [
    "import pandas as pd\n",
    "import numpy as np\n",
    "from sklearn.naive_bayes import GaussianNB, MultinomialNB\n",
    "from sklearn.model_selection import train_test_split\n",
    "from matplotlib import pyplot as plt\n"
   ]
  },
  {
   "cell_type": "code",
   "execution_count": 2,
   "metadata": {
    "scrolled": true
   },
   "outputs": [],
   "source": [
    "df = pd.read_csv('../Data/diabetes_cleaned_replaced.csv')\n",
    "df = df.loc[:, df.columns != '0']\n",
    "df = df.loc[:, df.columns != '1']\n",
    "df = df.loc[:, df.columns != 'Unnamed: 0']\n",
    "\n",
    "hospitalLength=np.array(df['8']).flatten()\n",
    "insulinLevel = np.array(df[['36']]).flatten()\n",
    "\n",
    "df = df.loc[:, df.columns != '8']\n",
    "df = df.loc[:, df.columns != '36']\n"
   ]
  },
  {
   "cell_type": "code",
   "execution_count": 3,
   "metadata": {
    "scrolled": true
   },
   "outputs": [],
   "source": [
    "X=np.array(df)"
   ]
  },
  {
   "cell_type": "code",
   "execution_count": 4,
   "metadata": {},
   "outputs": [],
   "source": [
    "def convertToDiscrete(arr,percentiles):\n",
    "    t=round(100/percentiles)\n",
    "    percents=[]\n",
    "    for i in range(100,0,t*-1):\n",
    "        percents.append(np.percentile(arr,i))\n",
    "    discrete=[]\n",
    "    for a in arr:\n",
    "        d=0\n",
    "        for i in range(len(percents)):\n",
    "            if a<percents[i]:\n",
    "                d=i\n",
    "        discrete.append(d)\n",
    "    return discrete\n",
    "    "
   ]
  },
  {
   "cell_type": "code",
   "execution_count": 5,
   "metadata": {},
   "outputs": [],
   "source": [
    "quantilesOfInputs=8\n",
    "Xd=X+0\n",
    "for i in range(len(X[0])):\n",
    "    col=np.array(convertToDiscrete(X[:,i].flatten(),quantilesOfInputs))\n",
    "    Xd[:,i]=col.T\n",
    "    "
   ]
  },
  {
   "cell_type": "code",
   "execution_count": 6,
   "metadata": {},
   "outputs": [],
   "source": [
    "\n",
    "def findAccuracies(mod,target,n=3):\n",
    "    model = mod()\n",
    "    fig = plt.figure()\n",
    "    ax1 = fig.add_subplot()\n",
    "    ax1.set_xlabel(\"# Quantiles of prediction\")\n",
    "    ax1.set_ylabel(\"Accuracy\")\n",
    "\n",
    "    percent=[]\n",
    "\n",
    "    for s in range(2,12):\n",
    "        scores=[]\n",
    "        targ=np.array(convertToDiscrete(target,s))\n",
    "        for i in range(n):\n",
    "            model = mod()\n",
    "            x_train, x_test, y_train, y_test = train_test_split(Xd, targ, test_size = 0.2)\n",
    "            model.fit(x_train, y_train)\n",
    "            scores.append(model.score(x_test, y_test))\n",
    "        score=sum(scores)/n\n",
    "        percent.append(score)\n",
    "    plt.bar(range(2,12),percent)\n",
    "    print(\"Accuracy using quartiles: \"+str(percent[2]))\n"
   ]
  },
  {
   "cell_type": "markdown",
   "metadata": {},
   "source": [
    "# GaussianNB for Hospital Visit Length"
   ]
  },
  {
   "cell_type": "code",
   "execution_count": 7,
   "metadata": {},
   "outputs": [
    {
     "name": "stdout",
     "output_type": "stream",
     "text": [
      "Accuracy using quartiles: 0.44739772690052737\n"
     ]
    },
    {
     "data": {
      "image/png": "[encoded data removed]",
      "text/plain": [
       "<Figure size 432x288 with 1 Axes>"
      ]
     },
     "metadata": {
      "needs_background": "light"
     },
     "output_type": "display_data"
    }
   ],
   "source": [
    "findAccuracies(GaussianNB,hospitalLength)"
   ]
  },
  {
   "cell_type": "markdown",
   "metadata": {},
   "source": [
    "# MultinomialNB for Hospital Visit Length"
   ]
  },
  {
   "cell_type": "code",
   "execution_count": 8,
   "metadata": {},
   "outputs": [
    {
     "name": "stdout",
     "output_type": "stream",
     "text": [
      "Accuracy using quartiles: 0.4301857128819888\n"
     ]
    },
    {
     "data": {
      "image/png": "[encoded data removed]",
      "text/plain": [
       "<Figure size 432x288 with 1 Axes>"
      ]
     },
     "metadata": {
      "needs_background": "light"
     },
     "output_type": "display_data"
    }
   ],
   "source": [
    "findAccuracies(MultinomialNB,hospitalLength)"
   ]
  },
  {
   "cell_type": "markdown",
   "metadata": {},
   "source": [
    "# GaussianNB for Insulin Level"
   ]
  },
  {
   "cell_type": "code",
   "execution_count": 9,
   "metadata": {},
   "outputs": [
    {
     "name": "stdout",
     "output_type": "stream",
     "text": [
      "Accuracy using quartiles: 0.764992957977138\n"
     ]
    },
    {
     "data": {
      "image/png": "[encoded data removed]",
      "text/plain": [
       "<Figure size 432x288 with 1 Axes>"
      ]
     },
     "metadata": {
      "needs_background": "light"
     },
     "output_type": "display_data"
    }
   ],
   "source": [
    "findAccuracies(GaussianNB,insulinLevel)"
   ]
  },
  {
   "cell_type": "markdown",
   "metadata": {},
   "source": [
    "# MultinomialNB for Insulin Level"
   ]
  },
  {
   "cell_type": "code",
   "execution_count": 10,
   "metadata": {},
   "outputs": [
    {
     "name": "stdout",
     "output_type": "stream",
     "text": [
      "Accuracy using quartiles: 0.7712816481608856\n"
     ]
    },
    {
     "data": {
      "image/png": "[encoded data removed]",
      "text/plain": [
       "<Figure size 432x288 with 1 Axes>"
      ]
     },
     "metadata": {
      "needs_background": "light"
     },
     "output_type": "display_data"
    }
   ],
   "source": [
    "findAccuracies(MultinomialNB,insulinLevel)"
   ]
  },
  {
   "cell_type": "code",
   "execution_count": null,
   "metadata": {},
   "outputs": [],
   "source": []
  }
 ],
 "metadata": {
  "kernelspec": {
   "display_name": "Python 3",
   "language": "python",
   "name": "python3"
  },
  "language_info": {
   "codemirror_mode": {
    "name": "ipython",
    "version": 3
   },
   "file_extension": ".py",
   "mimetype": "text/x-python",
   "name": "python",
   "nbconvert_exporter": "python",
   "pygments_lexer": "ipython3",
   "version": "3.8.5"
  }
 },
 "nbformat": 4,
 "nbformat_minor": 4
}
